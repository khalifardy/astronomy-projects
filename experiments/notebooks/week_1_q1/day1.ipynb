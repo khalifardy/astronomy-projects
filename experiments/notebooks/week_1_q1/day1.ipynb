{
 "cells": [
  {
   "cell_type": "code",
   "execution_count": 18,
   "metadata": {},
   "outputs": [],
   "source": [
    "import math\n",
    "import numpy as np\n",
    "import matplotlib.pyplot as plt\n",
    "import seaborn as sns\n",
    "from scipy import stats\n",
    "sns.set()"
   ]
  },
  {
   "cell_type": "code",
   "execution_count": 2,
   "metadata": {},
   "outputs": [],
   "source": [
    "# complex number \n",
    "z = 3 + 4j"
   ]
  },
  {
   "cell_type": "code",
   "execution_count": 3,
   "metadata": {},
   "outputs": [],
   "source": [
    "class Bintang:\n",
    "    def __init__(self, name, magnitudo, ra, dec, distance_parsec, visibility):\n",
    "        self.name = str(name)\n",
    "        try:\n",
    "            self.magnitudo = float(magnitudo)\n",
    "        except ValueError:\n",
    "            print(\"Magnitudo harus berupa angka\")\n",
    "        try:\n",
    "            self.ra = float(ra) #right ascension\n",
    "        except ValueError:\n",
    "            print(\"RA harus berupa angka\")\n",
    "        try:\n",
    "            self.dec = float(dec) #Declination\n",
    "        except ValueError:\n",
    "            print(\"Dec harus berupa angka\")\n",
    "        try:\n",
    "            self.distance_parsec = float(distance_parsec)\n",
    "        except ValueError:\n",
    "            print(\"Jarak harus berupa angka\")\n",
    "        \n",
    "        self.visibility = str(visibility)\n",
    "    \n",
    "    def magnitudo_absolut(self):\n",
    "        \"\"\"\n",
    "        Menghitung magnitudo absolut bintang menggunakan rumus:\n",
    "        M = m - 5 * log10(distance_parsec/10)\n",
    "        \"\"\"\n",
    "        abs_mag = self.magnitudo - 5 * math.log10(self.distance_parsec/10)\n",
    "        return abs_mag\n",
    "        "
   ]
  },
  {
   "cell_type": "code",
   "execution_count": 4,
   "metadata": {},
   "outputs": [],
   "source": [
    "class StarObservation:\n",
    "    def __init__ (self):\n",
    "        self.star = []\n",
    "        self.observation_time = 0\n",
    "\n",
    "    def add_star(self, star):\n",
    "        \n",
    "        if star.magnitudo < 6:\n",
    "            if star.visibility == \"clear\":\n",
    "                status = 'Observable'\n",
    "            elif star.visibility == 'partly':\n",
    "                status = \"Marginal\"\n",
    "            else:\n",
    "                status =\"Not Observable\"\n",
    "            \n",
    "            self.star.append(\n",
    "                {\n",
    "                    \"bintang\":star,\n",
    "                    \"status\":status\n",
    "                }\n",
    "            )\n",
    "            \n",
    "            return True\n",
    "        else:\n",
    "            print(f\"Magnitude {star.magnitudo} terlalu redup untuk teramati\")\n",
    "            return False\n",
    "        \n",
    "    def analyze_starts(self):\n",
    "        observable_stars = [\n",
    "            star for star in self.star if star['status'] == 'Observable'\n",
    "        ]\n",
    "        \n",
    "        if len(observable_stars) > 0 :\n",
    "            print(\"\\nBintang yang dapat diamati:\")\n",
    "            for star in observable_stars:\n",
    "                print(f\"- {star['bintang'].name}(mag : {star['bintang'].magnitudo})\")\n",
    "        else:\n",
    "            (\"tidak ada bintang yangdapat diamati\")"
   ]
  },
  {
   "cell_type": "code",
   "execution_count": 7,
   "metadata": {},
   "outputs": [],
   "source": [
    "sirius = Bintang('Sirius', -1.46, 101.2871553, -16.7161159,2.637,'clear')\n",
    "canopus = Bintang('Canopus', -0.74, 95.987877, -52.69566, 94.8, 'clear')\n",
    "rigil_kentaurus = Bintang('Rigil Kentaurus', -0.27, 219.900262, -60.835, 1.34, 'partly')\n",
    "_61_cygni_a = Bintang('61 Cygni A', 7.69, 315.322917, 38.989444,3.48, 'clear')\n",
    "hd_140283 = Bintang('HD 140283', 7.205, 151.19875, -10.311111, 58.02, 'partly')"
   ]
  },
  {
   "cell_type": "code",
   "execution_count": 8,
   "metadata": {},
   "outputs": [
    {
     "data": {
      "text/plain": [
       "1.4344493510328284"
      ]
     },
     "execution_count": 8,
     "metadata": {},
     "output_type": "execute_result"
    }
   ],
   "source": [
    "#magnitudo absolut\n",
    "sirius_abs = sirius.magnitudo_absolut()\n",
    "sirius_abs"
   ]
  },
  {
   "cell_type": "code",
   "execution_count": 15,
   "metadata": {},
   "outputs": [
    {
     "name": "stdout",
     "output_type": "stream",
     "text": [
      "Magnitude 7.69 terlalu redup untuk teramati\n",
      "Magnitude 7.205 terlalu redup untuk teramati\n"
     ]
    },
    {
     "data": {
      "text/plain": [
       "False"
      ]
     },
     "execution_count": 15,
     "metadata": {},
     "output_type": "execute_result"
    }
   ],
   "source": [
    "katalog_star = StarObservation()\n",
    "katalog_star.add_star(sirius)\n",
    "katalog_star.add_star(canopus)\n",
    "katalog_star.add_star(rigil_kentaurus)\n",
    "katalog_star.add_star(_61_cygni_a)\n",
    "katalog_star.add_star(hd_140283)"
   ]
  },
  {
   "cell_type": "code",
   "execution_count": 16,
   "metadata": {},
   "outputs": [
    {
     "name": "stdout",
     "output_type": "stream",
     "text": [
      "\n",
      "Bintang yang dapat diamati:\n",
      "- Sirius(mag : -1.46)\n",
      "- Canopus(mag : -0.74)\n"
     ]
    }
   ],
   "source": [
    "katalog_star.analyze_starts()"
   ]
  },
  {
   "cell_type": "code",
   "execution_count": 1,
   "metadata": {},
   "outputs": [],
   "source": [
    "#excercise python 1 : STring Manipulation\n",
    "def analyze_star_name(star_name):\n",
    "    amount_chat = len(star_name)\n",
    "    capital_name = star_name.upper()\n",
    "    lower_name = star_name.lower()\n",
    "    cointains_a = 'a' in star_name\n",
    "    return amount_chat, capital_name, lower_name, cointains_a"
   ]
  },
  {
   "cell_type": "code",
   "execution_count": 2,
   "metadata": {},
   "outputs": [
    {
     "name": "stdout",
     "output_type": "stream",
     "text": [
      "Lenght : 6\n",
      "Capital : SIRIUS\n",
      "Lower : sirius\n",
      "Contains a : False\n"
     ]
    }
   ],
   "source": [
    "nama = analyze_star_name('Sirius')\n",
    "print(f\"Lenght : {nama[0]}\")\n",
    "print(f\"Capital : {nama[1]}\")\n",
    "print(f\"Lower : {nama[2]}\")\n",
    "print(f\"Contains a : {nama[3]}\")"
   ]
  },
  {
   "cell_type": "code",
   "execution_count": 3,
   "metadata": {},
   "outputs": [],
   "source": [
    "def classify_star_brightness(magnitudo):\n",
    "    if magnitudo < 0:\n",
    "        return \"Sangat Terang\"\n",
    "    elif magnitudo <= 0 and magnitudo < 2:\n",
    "        return \"Terang\"\n",
    "    elif magnitudo <= 2 and magnitudo < 4:\n",
    "        return \"Medium\"\n",
    "    elif magnitudo <= 4 and magnitudo < 6:\n",
    "        return \"Redup\"\n",
    "    else:\n",
    "        return \"Sangat Redup\""
   ]
  },
  {
   "cell_type": "code",
   "execution_count": 4,
   "metadata": {},
   "outputs": [
    {
     "name": "stdout",
     "output_type": "stream",
     "text": [
      "Magnitudo -1.46 tergolong Sangat Terang\n",
      "Magnitudo 0.03 tergolong Medium\n",
      "Magnitudo 2.5 tergolong Redup\n",
      "Magnitudo 4.8 tergolong Sangat Redup\n",
      "Magnitudo 7.69 tergolong Sangat Redup\n"
     ]
    }
   ],
   "source": [
    "test_magnitudes = [-1.46, 0.03, 2.5, 4.8, 7.69]\n",
    "for mag in test_magnitudes:\n",
    "    print(f\"Magnitudo {mag} tergolong {classify_star_brightness(mag)}\")"
   ]
  },
  {
   "cell_type": "code",
   "execution_count": 9,
   "metadata": {},
   "outputs": [],
   "source": [
    "def filter_and_sort_stars(stars_data, max_magnitude, visibility):\n",
    "    filtered_stars = [\n",
    "        star for star in stars_data if star.get('magnitudo') < max_magnitude and star.get('visibility') == visibility\n",
    "    ]\n",
    "    \n",
    "    sorted_stars = sorted(filtered_stars, key=lambda x: x.get('jarak'), reverse=True)\n",
    "    sangat_terang = len([star for star in stars_data if star.get('visibility') =='sangat terang'])\n",
    "    terang = len([star for star in stars_data if star.get('visibility') == 'terang'])\n",
    "    medium = len([star for star in stars_data if star.get('visibility') == 'medium'])\n",
    "    redup = len([star for star in stars_data if star.get('visibility') == 'redup'])\n",
    "    \n",
    "    return {\n",
    "        \"filtered_stars\":filtered_stars,\n",
    "        \"sorted_stars\":sorted_stars,\n",
    "        \"sangat_terang\":sangat_terang,\n",
    "        \"terang\":terang,\n",
    "        \"medium\":medium,\n",
    "        \"redup\":redup\n",
    "    }"
   ]
  },
  {
   "cell_type": "code",
   "execution_count": 12,
   "metadata": {},
   "outputs": [
    {
     "name": "stdout",
     "output_type": "stream",
     "text": [
      "Bintang yang difilter (magnitude < 6.0, visibility: redup):\n",
      "Nama: Fomalhaut\n",
      "Magnitudo: 4.16\n",
      "Jarak: 7.7 parsec\n",
      "Visibility: redup\n",
      "\n",
      "Nama: Deneb\n",
      "Magnitudo: 4.52\n",
      "Jarak: 802.0 parsec\n",
      "Visibility: redup\n",
      "\n",
      "Nama: Mimosa\n",
      "Magnitudo: 4.64\n",
      "Jarak: 353.0 parsec\n",
      "Visibility: redup\n",
      "\n",
      "Nama: Regulus\n",
      "Magnitudo: 4.87\n",
      "Jarak: 24.3 parsec\n",
      "Visibility: redup\n",
      "\n",
      "Nama: Castor\n",
      "Magnitudo: 5.01\n",
      "Jarak: 15.6 parsec\n",
      "Visibility: redup\n",
      "\n",
      "Nama: Shaula\n",
      "Magnitudo: 5.24\n",
      "Jarak: 703.0 parsec\n",
      "Visibility: redup\n",
      "\n",
      "Nama: Gacrux\n",
      "Magnitudo: 5.47\n",
      "Jarak: 88.1 parsec\n",
      "Visibility: redup\n",
      "\n",
      "Statistik visibility:\n",
      "Sangat Terang: 3\n",
      "Terang: 5\n",
      "Medium: 5\n",
      "Redup: 7\n"
     ]
    }
   ],
   "source": [
    "test_stars_data = [\n",
    "    {\n",
    "        \"nama\": \"Sirius\",\n",
    "        \"magnitudo\": -1.46,\n",
    "        \"jarak\": 2.637,\n",
    "        \"visibility\": \"sangat terang\"\n",
    "    },\n",
    "    {\n",
    "        \"nama\": \"Canopus\",\n",
    "        \"magnitudo\": -0.74,\n",
    "        \"jarak\": 94.8,\n",
    "        \"visibility\": \"sangat terang\"\n",
    "    },\n",
    "    {\n",
    "        \"nama\": \"Arcturus\",\n",
    "        \"magnitudo\": -0.05,\n",
    "        \"jarak\": 11.26,\n",
    "        \"visibility\": \"sangat terang\"\n",
    "    },\n",
    "    {\n",
    "        \"nama\": \"Vega\",\n",
    "        \"magnitudo\": 0.03,\n",
    "        \"jarak\": 25.04,\n",
    "        \"visibility\": \"terang\"\n",
    "    },\n",
    "    {\n",
    "        \"nama\": \"Capella\",\n",
    "        \"magnitudo\": 0.08,\n",
    "        \"jarak\": 13.1,\n",
    "        \"visibility\": \"terang\"\n",
    "    },\n",
    "    {\n",
    "        \"nama\": \"Rigel\",\n",
    "        \"magnitudo\": 0.13,\n",
    "        \"jarak\": 264.0,\n",
    "        \"visibility\": \"terang\"\n",
    "    },\n",
    "    {\n",
    "        \"nama\": \"Procyon\",\n",
    "        \"magnitudo\": 0.34,\n",
    "        \"jarak\": 3.51,\n",
    "        \"visibility\": \"terang\"\n",
    "    },\n",
    "    {\n",
    "        \"nama\": \"Betelgeuse\",\n",
    "        \"magnitudo\": 0.42,\n",
    "        \"jarak\": 197.0,\n",
    "        \"visibility\": \"terang\"\n",
    "    },\n",
    "    {\n",
    "        \"nama\": \"Altair\",\n",
    "        \"magnitudo\": 2.21,\n",
    "        \"jarak\": 5.13,\n",
    "        \"visibility\": \"medium\"\n",
    "    },\n",
    "    {\n",
    "        \"nama\": \"Aldebaran\",\n",
    "        \"magnitudo\": 2.87,\n",
    "        \"jarak\": 20.0,\n",
    "        \"visibility\": \"medium\"\n",
    "    },\n",
    "    {\n",
    "        \"nama\": \"Antares\",\n",
    "        \"magnitudo\": 2.96,\n",
    "        \"jarak\": 170.0,\n",
    "        \"visibility\": \"medium\"\n",
    "    },\n",
    "    {\n",
    "        \"nama\": \"Spica\",\n",
    "        \"magnitudo\": 2.98,\n",
    "        \"jarak\": 77.0,\n",
    "        \"visibility\": \"medium\"\n",
    "    },\n",
    "    {\n",
    "        \"nama\": \"Pollux\",\n",
    "        \"magnitudo\": 3.14,\n",
    "        \"jarak\": 10.4,\n",
    "        \"visibility\": \"medium\"\n",
    "    },\n",
    "    {\n",
    "        \"nama\": \"Fomalhaut\",\n",
    "        \"magnitudo\": 4.16,\n",
    "        \"jarak\": 7.7,\n",
    "        \"visibility\": \"redup\"\n",
    "    },\n",
    "    {\n",
    "        \"nama\": \"Deneb\",\n",
    "        \"magnitudo\": 4.52,\n",
    "        \"jarak\": 802.0,\n",
    "        \"visibility\": \"redup\"\n",
    "    },\n",
    "    {\n",
    "        \"nama\": \"Mimosa\",\n",
    "        \"magnitudo\": 4.64,\n",
    "        \"jarak\": 353.0,\n",
    "        \"visibility\": \"redup\"\n",
    "    },\n",
    "    {\n",
    "        \"nama\": \"Regulus\",\n",
    "        \"magnitudo\": 4.87,\n",
    "        \"jarak\": 24.3,\n",
    "        \"visibility\": \"redup\"\n",
    "    },\n",
    "    {\n",
    "        \"nama\": \"Castor\",\n",
    "        \"magnitudo\": 5.01,\n",
    "        \"jarak\": 15.6,\n",
    "        \"visibility\": \"redup\"\n",
    "    },\n",
    "    {\n",
    "        \"nama\": \"Shaula\",\n",
    "        \"magnitudo\": 5.24,\n",
    "        \"jarak\": 703.0,\n",
    "        \"visibility\": \"redup\"\n",
    "    },\n",
    "    {\n",
    "        \"nama\": \"Gacrux\",\n",
    "        \"magnitudo\": 5.47,\n",
    "        \"jarak\": 88.1,\n",
    "        \"visibility\": \"redup\"\n",
    "    }\n",
    "]\n",
    "\n",
    "# Test fungsi\n",
    "result = filter_and_sort_stars(test_stars_data, 6.0, \"redup\")\n",
    "\n",
    "# Print hasil\n",
    "print(\"Bintang yang difilter (magnitude < 6.0, visibility: redup):\")\n",
    "for star in result[\"filtered_stars\"]:\n",
    "    print(f\"Nama: {star['nama']}\")\n",
    "    print(f\"Magnitudo: {star['magnitudo']}\")\n",
    "    print(f\"Jarak: {star['jarak']} parsec\")\n",
    "    print(f\"Visibility: {star['visibility']}\")\n",
    "    print()\n",
    "\n",
    "print(\"Statistik visibility:\")\n",
    "print(f\"Sangat Terang: {result['sangat_terang']}\")\n",
    "print(f\"Terang: {result['terang']}\")\n",
    "print(f\"Medium: {result['medium']}\")\n",
    "print(f\"Redup: {result['redup']}\")"
   ]
  },
  {
   "cell_type": "code",
   "execution_count": 13,
   "metadata": {},
   "outputs": [],
   "source": [
    "def convert_coordinate(ra_str,dec_str):\n",
    "    ra = ra_str.split(\":\")\n",
    "    dec = dec_str.split(\":\")\n",
    "    if len(ra) != 3 or len(dec) != 3:\n",
    "        return \"Format koordinat salah\"\n",
    "    try:\n",
    "        ra_decimal = 15*(float(ra[0]) + float(ra[1])/60 + float(ra[2])/3600)\n",
    "        dec_decimal = float(dec[0]) + float(dec[1])/60 + float(dec[2])/3600\n",
    "    \n",
    "        return ra_decimal, dec_decimal\n",
    "    except ValueError :\n",
    "        return \"Format koordinat salah\""
   ]
  },
  {
   "cell_type": "code",
   "execution_count": 14,
   "metadata": {},
   "outputs": [
    {
     "data": {
      "text/plain": [
       "(155.125, -44.49583333333333)"
      ]
     },
     "execution_count": 14,
     "metadata": {},
     "output_type": "execute_result"
    }
   ],
   "source": [
    "convert_coordinate(\"10:20:30\", \"-45:30:15\")"
   ]
  },
  {
   "cell_type": "code",
   "execution_count": 15,
   "metadata": {},
   "outputs": [
    {
     "data": {
      "text/plain": [
       "'Format koordinat salah'"
      ]
     },
     "execution_count": 15,
     "metadata": {},
     "output_type": "execute_result"
    }
   ],
   "source": [
    "test_ra = \"06h 45m 08.9s\"\n",
    "test_dec = \"-16° 42' 58\\\"\"\n",
    "convert_coordinate(test_ra, test_dec)"
   ]
  },
  {
   "cell_type": "code",
   "execution_count": 5,
   "metadata": {},
   "outputs": [],
   "source": [
    "class StarCatalog:\n",
    "    def __init__(self, filename):\n",
    "        self.filename = filename\n",
    "    \n",
    "    def save_to_file(self, stars_data):\n",
    "        with open(self.filename, 'w') as file:\n",
    "            file.write(\"nama,magnitudo,jarak,visibility,ra,dec\\n\")\n",
    "            for star in stars_data:\n",
    "                file.write(f\"{star['nama']},{star['magnitudo']},{star['jarak']},{star['visibility']}, {star['ra']}, {star['dec']}\\n\")\n",
    "    \n",
    "    def load_from_file(self):\n",
    "        stars_data = []\n",
    "        with open(self.filename, 'r') as file:\n",
    "            next(file)\n",
    "            for line in file:\n",
    "                data = line.strip().split(\",\")\n",
    "                stars_data.append({\n",
    "                    \"nama\": data[0],\n",
    "                    \"magnitudo\": float(data[1]),\n",
    "                    \"jarak\": float(data[2]),\n",
    "                    \"visibility\": data[3],\n",
    "                    \"ra\": data[4],\n",
    "                    \"dec\": data[5]\n",
    "                })\n",
    "        return stars_data\n",
    "    \n",
    "    def add_star(self, star_data):\n",
    "        stars_data = self.load_from_file()\n",
    "        print(stars_data)\n",
    "        stars_data.append(star_data)\n",
    "        self.save_to_file(stars_data)\n",
    "    \n",
    "    def search_stars(self,criteria):\n",
    "        stars_data = self.load_from_file()\n",
    "        filtered_stars = []\n",
    "        for star in stars_data:\n",
    "            criteria_name = criteria.get('nama')\n",
    "            criteria_magnitudo = criteria.get('magnitudo')\n",
    "            criteria_jarak = criteria.get('jarak')\n",
    "            criteria_visibility = criteria.get('visibility')\n",
    "            criteria_ra = criteria.get('ra')\n",
    "            criteria_dec = criteria.get('dec')\n",
    "            \n",
    "            if criteria_name and criteria_name.lower() not in star['nama'].lower():\n",
    "                continue\n",
    "            if criteria_magnitudo and (star['magnitudo'] > criteria_magnitudo[1] or star['magnitudo'] < criteria_magnitudo[0]):\n",
    "                continue\n",
    "            if criteria_jarak and (star['jarak'] > criteria_jarak[1] or star['jarak'] < criteria_jarak[0]):\n",
    "                continue\n",
    "            if criteria_visibility and star['visibility'] != criteria_visibility:\n",
    "                continue\n",
    "            if criteria_ra and star['ra'] != criteria_ra:\n",
    "                continue\n",
    "            if criteria_dec and star['dec'] != criteria_dec:\n",
    "                continue\n",
    "            filtered_stars.append(star)\n",
    "        return filtered_stars\n",
    "    \n",
    "        \n",
    "        "
   ]
  },
  {
   "cell_type": "code",
   "execution_count": 6,
   "metadata": {},
   "outputs": [],
   "source": [
    "catalog = StarCatalog(\"stars.csv\")\n",
    "sirius = {\n",
    "    \"nama\": \"Sirius\",\n",
    "    \"magnitudo\": -1.46,\n",
    "    \"jarak\": 2.637,\n",
    "    \"visibility\": \"sangat terang\",\n",
    "    \"ra\": \"06h 45m 08.9s\",\n",
    "    \"dec\": \"-16° 42' 58\\\"\"\n",
    "}\n",
    "canopus = {\n",
    "    \"nama\": \"Canopus\",\n",
    "    \"magnitudo\": -0.74,\n",
    "    \"jarak\": 94.8,\n",
    "    \"visibility\": \"sangat terang\",\n",
    "    \"ra\": \"06h 23m 57.1s\",\n",
    "    \"dec\": \"-52° 41' 45\\\"\"\n",
    "}\n",
    "\n",
    "arcturus = {\n",
    "    \"nama\": \"Arcturus\",\n",
    "    \"magnitudo\": -0.054,\n",
    "    \"jarak\": 11.26,\n",
    "    \"visibility\": \"sangat terang\",\n",
    "    \"ra\": \"14h 15m 39.7s\",\n",
    "    \"dec\": \"-19° 10' 57\\\"\"\n",
    "}\n",
    "catalog.save_to_file([sirius, canopus, arcturus])"
   ]
  },
  {
   "cell_type": "code",
   "execution_count": 11,
   "metadata": {},
   "outputs": [
    {
     "name": "stdout",
     "output_type": "stream",
     "text": [
      "[{'nama': 'Sirius', 'magnitudo': -1.46, 'jarak': 2.637, 'visibility': 'sangat terang', 'ra': ' 06h 45m 08.9s', 'dec': ' -16° 42\\' 58\"'}, {'nama': 'Canopus', 'magnitudo': -0.74, 'jarak': 94.8, 'visibility': 'sangat terang', 'ra': ' 06h 23m 57.1s', 'dec': ' -52° 41\\' 45\"'}, {'nama': 'Arcturus', 'magnitudo': -0.054, 'jarak': 11.26, 'visibility': 'sangat terang', 'ra': ' 14h 15m 39.7s', 'dec': ' -19° 10\\' 57\"'}]\n"
     ]
    }
   ],
   "source": [
    "new_star = {\n",
    "    \"nama\": \"Vega\",\n",
    "    \"magnitudo\": 0.03,\n",
    "    \"jarak\": 25.04,\n",
    "    \"visibility\": \"terang\",\n",
    "    \"ra\": \"18h 36m 56.3s\",\n",
    "    \"dec\": \"+38° 47' 01\\\"\"\n",
    "}\n",
    "\n",
    "catalog.add_star(new_star)"
   ]
  },
  {
   "cell_type": "code",
   "execution_count": 7,
   "metadata": {},
   "outputs": [],
   "source": [
    "# Example search criteria structures\n",
    "criteria= {\n",
    "    \"visibility\": \"sangat terang\",\n",
    "    \"nama\":\"ri\" ,\n",
    "    \"magnitudo\": (-2, 1),\n",
    "    \"jarak\": (0, 50)\n",
    "    \n",
    "}"
   ]
  },
  {
   "cell_type": "code",
   "execution_count": 8,
   "metadata": {},
   "outputs": [
    {
     "data": {
      "text/plain": [
       "[{'nama': 'Sirius',\n",
       "  'magnitudo': -1.46,\n",
       "  'jarak': 2.637,\n",
       "  'visibility': 'sangat terang',\n",
       "  'ra': ' 06h 45m 08.9s',\n",
       "  'dec': ' -16° 42\\' 58\"'}]"
      ]
     },
     "execution_count": 8,
     "metadata": {},
     "output_type": "execute_result"
    }
   ],
   "source": [
    "result = catalog.search_stars(criteria)\n",
    "result"
   ]
  },
  {
   "cell_type": "code",
   "execution_count": 10,
   "metadata": {},
   "outputs": [],
   "source": [
    "# Exercise 7: Star Object\n",
    "# Buat class Star dengan:\n",
    "# - Properties untuk semua atribut bintang\n",
    "# - Method untuk menghitung magnitude absolut\n",
    "# - Method untuk mengecek visibilitas\n",
    "# - Method untuk membandingkan dengan bintang lain\n",
    "\n",
    "class Star:\n",
    "    def __init__(self, nama, apparent_magnitude, ra, dec, distance_parsec, visibility):\n",
    "        # TODO: Implementasikan inisialisasi\n",
    "        self.nama = nama\n",
    "        self.apparent_magnitude = apparent_magnitude\n",
    "        self.ra = ra\n",
    "        self.dec = dec\n",
    "        self.distance_parsec = distance_parsec\n",
    "        self.visibility = visibility\n",
    "    \n",
    "    def absolute_magnitude(self):\n",
    "        # TODO: Implementasikan perhitungan magnitude absolut\n",
    "        return self.apparent_magnitude - 5 * math.log10(self.distance_parsec/10)\n",
    "    \n",
    "    def is_visible(self, min_magnitude):\n",
    "        # TODO: Implementasikan pengecekan visibilitas\n",
    "        return self.apparent_magnitude < min_magnitude\n",
    "    \n",
    "    def __lt__(self, other):\n",
    "        # TODO: Implementasikan perbandingan bintang\n",
    "        return self.absolute_magnitude() < other.absolute_magnitude()"
   ]
  },
  {
   "cell_type": "code",
   "execution_count": 11,
   "metadata": {},
   "outputs": [
    {
     "name": "stdout",
     "output_type": "stream",
     "text": [
      "=== Menjalankan Test Suite untuk Class Star ===\n",
      "\n",
      "Test Inisialisasi:\n",
      "Nama Sirius: True\n",
      "Magnitude Sirius: True\n",
      "Distance Sirius: True\n",
      "\n",
      "Test Magnitude Absolut:\n",
      "Sirius absolute magnitude: 1.43\n",
      "Vega absolute magnitude: -1.96\n",
      "\n",
      "Test Visibilitas:\n",
      "Batas magnitude 0:\n",
      "Sirius visible: True\n",
      "Vega visible: False\n",
      "\n",
      "Batas magnitude 1:\n",
      "Sirius visible: True\n",
      "Vega visible: True\n",
      "\n",
      "Test Perbandingan:\n",
      "Sirius lebih terang dari Vega: False\n",
      "Vega lebih terang dari Sirius: True\n",
      "\n"
     ]
    }
   ],
   "source": [
    "def test_star_initialization():\n",
    "    # Membuat beberapa objek Star dengan data yang berbeda\n",
    "    sirius = Star(\n",
    "        nama=\"Sirius\",\n",
    "        apparent_magnitude=-1.46,\n",
    "        ra=\"06h 45m 08.9s\",\n",
    "        dec=\"-16° 42' 58\\\"\",\n",
    "        distance_parsec=2.637,\n",
    "        visibility=\"sangat terang\"\n",
    "    )\n",
    "    \n",
    "    vega = Star(\n",
    "        nama=\"Vega\",\n",
    "        apparent_magnitude=0.03,\n",
    "        ra=\"18h 36m 56.3s\",\n",
    "        dec=\"+38° 47' 01\\\"\",\n",
    "        distance_parsec=25.04,\n",
    "        visibility=\"terang\"\n",
    "    )\n",
    "    \n",
    "    # Memeriksa apakah properti tersimpan dengan benar\n",
    "    print(\"Test Inisialisasi:\")\n",
    "    print(f\"Nama Sirius: {sirius.nama == 'Sirius'}\")\n",
    "    print(f\"Magnitude Sirius: {sirius.apparent_magnitude == -1.46}\")\n",
    "    print(f\"Distance Sirius: {sirius.distance_parsec == 2.637}\")\n",
    "    print()\n",
    "    \n",
    "    return sirius, vega\n",
    "\n",
    "# Test case 2: Perhitungan magnitude absolut\n",
    "def test_absolute_magnitude(sirius, vega):\n",
    "    # Menghitung magnitude absolut\n",
    "    sirius_abs_mag = sirius.absolute_magnitude()\n",
    "    vega_abs_mag = vega.absolute_magnitude()\n",
    "    \n",
    "    print(\"Test Magnitude Absolut:\")\n",
    "    print(f\"Sirius absolute magnitude: {sirius_abs_mag:.2f}\")  # Expected: sekitar 1.45\n",
    "    print(f\"Vega absolute magnitude: {vega_abs_mag:.2f}\")     # Expected: sekitar 0.58\n",
    "    print()\n",
    "    \n",
    "# Test case 3: Pengecekan visibilitas\n",
    "def test_visibility(sirius, vega):\n",
    "    # Test dengan berbagai batas magnitude\n",
    "    print(\"Test Visibilitas:\")\n",
    "    print(\"Batas magnitude 0:\")\n",
    "    print(f\"Sirius visible: {sirius.is_visible(0)}\")  # Should be True\n",
    "    print(f\"Vega visible: {vega.is_visible(0)}\")     # Should be False\n",
    "    \n",
    "    print(\"\\nBatas magnitude 1:\")\n",
    "    print(f\"Sirius visible: {sirius.is_visible(1)}\")  # Should be True\n",
    "    print(f\"Vega visible: {vega.is_visible(1)}\")     # Should be True\n",
    "    print()\n",
    "\n",
    "# Test case 4: Perbandingan bintang\n",
    "def test_comparison(sirius, vega):\n",
    "    print(\"Test Perbandingan:\")\n",
    "    print(f\"Sirius lebih terang dari Vega: {sirius < vega}\")  # Membandingkan absolute magnitude\n",
    "    print(f\"Vega lebih terang dari Sirius: {vega < sirius}\")\n",
    "    print()\n",
    "\n",
    "# Menjalankan semua test\n",
    "def run_all_tests():\n",
    "    print(\"=== Menjalankan Test Suite untuk Class Star ===\\n\")\n",
    "    \n",
    "    # Membuat objek bintang untuk testing\n",
    "    sirius, vega = test_star_initialization()\n",
    "    \n",
    "    # Menjalankan test lainnya\n",
    "    test_absolute_magnitude(sirius, vega)\n",
    "    test_visibility(sirius, vega)\n",
    "    test_comparison(sirius, vega)\n",
    "\n",
    "# Jalankan test\n",
    "run_all_tests()"
   ]
  },
  {
   "cell_type": "code",
   "execution_count": 19,
   "metadata": {},
   "outputs": [],
   "source": [
    "def analyze_star_statistic(stars_data):\n",
    "    # menghitung statistik bintang\n",
    "    data_total= []\n",
    "    for star in stars_data:\n",
    "        data_total.append(star.absolute_magnitude())\n",
    "    data_total = np.array(data_total)\n",
    "    mean = np.mean(data_total)\n",
    "    median = np.median(data_total)\n",
    "    modus = stats.mode(data_total)[0]\n",
    "    std_dev = np.std(data_total)\n",
    "    return mean, median, modus, std_dev\n",
    "    "
   ]
  },
  {
   "cell_type": "code",
   "execution_count": 13,
   "metadata": {},
   "outputs": [],
   "source": [
    "def plot_star_distribution(stars_data):\n",
    "    #distribusi bintang berdasarkan jarak\n",
    "    data_jarak = [star.distance_parsec for star in stars_data]\n",
    "    plt.figure(figsize=(10,6))\n",
    "    sns.histplot(data_jarak, bins=30, kde=True)\n",
    "    plt.title(\"Distribusi Bintang Berdasarkan Jarak\")\n",
    "    plt.xlabel(\"Jarak (parsec)\")\n",
    "    plt.ylabel(\"Jumlah Bintang\")\n",
    "    plt.show()"
   ]
  },
  {
   "cell_type": "code",
   "execution_count": 14,
   "metadata": {},
   "outputs": [],
   "source": [
    "def scatter_plot_jarak_magnitudo(stars_data):\n",
    "    #scatter plot jarak vs magnitudo\n",
    "    data_jarak = [star.distance_parsec for star in stars_data]\n",
    "    data_magnitudo = [star.apparent_magnitude for star in stars_data]\n",
    "    plt.figure(figsize=(10,6))\n",
    "    plt.scatter(data_jarak, data_magnitudo, alpha=0.6)\n",
    "    plt.title(\"Scatter Plot Jarak vs Magnitudo\")\n",
    "    plt.xlabel(\"Jarak (parsec)\")\n",
    "    plt.ylabel(\"Magnitudo\")\n",
    "    plt.yscale(\"log\")\n",
    "    plt.show()"
   ]
  },
  {
   "cell_type": "code",
   "execution_count": 15,
   "metadata": {},
   "outputs": [],
   "source": [
    "def korelasi_jarak_magnitudo(stars_data):\n",
    "    #korelasi jarak dan magnitudo\n",
    "    data_jarak = [star.distance_parsec for star in stars_data]\n",
    "    data_magnitudo = [star.apparent_magnitude for star in stars_data]\n",
    "    corr = np.corrcoef(data_jarak, data_magnitudo)\n",
    "    return corr[0,1]"
   ]
  },
  {
   "cell_type": "code",
   "execution_count": 20,
   "metadata": {},
   "outputs": [],
   "source": [
    "stars = [\n",
    "    Star(\n",
    "        \"Sirius\", \n",
    "        -1.46, \n",
    "        \"06h 45m 08.9s\", \n",
    "        \"-16° 42' 58\\\"\", \n",
    "        2.637, \n",
    "        \"sangat terang\"\n",
    "    ),\n",
    "    Star(\n",
    "        \"Canopus\", \n",
    "        -0.74, \n",
    "        \"06h 23m 57.1s\", \n",
    "        \"-52° 41' 45\\\"\", \n",
    "        94.8, \n",
    "        \"sangat terang\"\n",
    "    ),\n",
    "    Star(\n",
    "        \"Arcturus\", \n",
    "        -0.05, \n",
    "        \"14h 15m 39.7s\", \n",
    "        \"+19° 10' 57\\\"\", \n",
    "        11.26, \n",
    "        \"sangat terang\"\n",
    "    ),\n",
    "    Star(\n",
    "        \"Vega\", \n",
    "        0.03, \n",
    "        \"18h 36m 56.3s\", \n",
    "        \"+38° 47' 01\\\"\", \n",
    "        25.04, \n",
    "        \"terang\"\n",
    "    ),\n",
    "    Star(\n",
    "        \"Capella\", \n",
    "        0.08, \n",
    "        \"05h 16m 41.4s\", \n",
    "        \"+45° 59' 53\\\"\", \n",
    "        13.1, \n",
    "        \"terang\"\n",
    "    ),\n",
    "    Star(\n",
    "        \"Rigel\", \n",
    "        0.13, \n",
    "        \"05h 14m 32.3s\", \n",
    "        \"-08° 12' 06\\\"\", \n",
    "        264.0, \n",
    "        \"terang\"\n",
    "    ),\n",
    "    Star(\n",
    "        \"Procyon\", \n",
    "        0.34, \n",
    "        \"07h 39m 18.1s\", \n",
    "        \"+05° 13' 30\\\"\", \n",
    "        3.51, \n",
    "        \"terang\"\n",
    "    ),\n",
    "    Star(\n",
    "        \"Betelgeuse\", \n",
    "        0.42, \n",
    "        \"05h 55m 10.3s\", \n",
    "        \"+07° 24' 25\\\"\", \n",
    "        197.0, \n",
    "        \"terang\"\n",
    "    ),\n",
    "    Star(\n",
    "        \"Achernar\", \n",
    "        0.46, \n",
    "        \"01h 37m 42.9s\", \n",
    "        \"-57° 14' 12\\\"\", \n",
    "        144.0, \n",
    "        \"terang\"\n",
    "    ),\n",
    "    Star(\n",
    "        \"Hadar\", \n",
    "        0.61, \n",
    "        \"14h 03m 49.4s\", \n",
    "        \"-60° 22' 22\\\"\", \n",
    "        390.0, \n",
    "        \"terang\"\n",
    "    ),\n",
    "    Star(\n",
    "        \"Altair\", \n",
    "        0.77, \n",
    "        \"19h 50m 47.0s\", \n",
    "        \"+08° 52' 06\\\"\", \n",
    "        5.13, \n",
    "        \"terang\"\n",
    "    ),\n",
    "    Star(\n",
    "        \"Aldebaran\", \n",
    "        0.87, \n",
    "        \"04h 35m 55.2s\", \n",
    "        \"+16° 30' 33\\\"\", \n",
    "        20.0, \n",
    "        \"terang\"\n",
    "    ),\n",
    "    Star(\n",
    "        \"Antares\", \n",
    "        0.96, \n",
    "        \"16h 29m 24.5s\", \n",
    "        \"-26° 25' 55\\\"\", \n",
    "        170.0, \n",
    "        \"terang\"\n",
    "    ),\n",
    "    Star(\n",
    "        \"Spica\", \n",
    "        0.98, \n",
    "        \"13h 25m 11.6s\", \n",
    "        \"-11° 09' 41\\\"\", \n",
    "        77.0, \n",
    "        \"terang\"\n",
    "    ),\n",
    "    Star(\n",
    "        \"Pollux\", \n",
    "        1.14, \n",
    "        \"07h 45m 18.9s\", \n",
    "        \"+28° 01' 34\\\"\", \n",
    "        10.4, \n",
    "        \"sedang\"\n",
    "    ),\n",
    "    Star(\n",
    "        \"Fomalhaut\", \n",
    "        1.16, \n",
    "        \"22h 57m 39.0s\", \n",
    "        \"-29° 37' 20\\\"\", \n",
    "        7.7, \n",
    "        \"sedang\"\n",
    "    ),\n",
    "    Star(\n",
    "        \"Deneb\", \n",
    "        1.25, \n",
    "        \"20h 41m 25.9s\", \n",
    "        \"+45° 16' 49\\\"\", \n",
    "        802.0, \n",
    "        \"sedang\"\n",
    "    ),\n",
    "    Star(\n",
    "        \"Regulus\", \n",
    "        1.35, \n",
    "        \"10h 08m 22.3s\", \n",
    "        \"+11° 58' 02\\\"\", \n",
    "        24.3, \n",
    "        \"sedang\"\n",
    "    ),\n",
    "    Star(\n",
    "        \"Castor\", \n",
    "        1.58, \n",
    "        \"07h 34m 35.9s\", \n",
    "        \"+31° 53' 18\\\"\", \n",
    "        15.6, \n",
    "        \"sedang\"\n",
    "    ),\n",
    "    Star(\n",
    "        \"Gacrux\", \n",
    "        1.63, \n",
    "        \"12h 31m 09.9s\", \n",
    "        \"-57° 06' 47\\\"\", \n",
    "        88.1, \n",
    "        \"sedang\"\n",
    "    )\n",
    "]"
   ]
  },
  {
   "cell_type": "code",
   "execution_count": 21,
   "metadata": {},
   "outputs": [
    {
     "data": {
      "text/plain": [
       "(np.float64(-2.283414766726696),\n",
       " np.float64(-1.2991608005059332),\n",
       " np.float64(-8.270871841420817),\n",
       " np.float64(3.4289278565539556))"
      ]
     },
     "execution_count": 21,
     "metadata": {},
     "output_type": "execute_result"
    }
   ],
   "source": [
    "analyze_star_statistic(stars)"
   ]
  },
  {
   "cell_type": "code",
   "execution_count": 22,
   "metadata": {},
   "outputs": [
    {
     "data": {
      "image/png": "[encoded data removed]",
      "text/plain": [
       "<Figure size 1000x600 with 1 Axes>"
      ]
     },
     "metadata": {},
     "output_type": "display_data"
    }
   ],
   "source": [
    "plot_star_distribution(stars)"
   ]
  },
  {
   "cell_type": "code",
   "execution_count": 23,
   "metadata": {},
   "outputs": [
    {
     "data": {
      "image/png": "[encoded data removed]",
      "text/plain": [
       "<Figure size 1000x600 with 1 Axes>"
      ]
     },
     "metadata": {},
     "output_type": "display_data"
    }
   ],
   "source": [
    "scatter_plot_jarak_magnitudo(stars)"
   ]
  }
 ],
 "metadata": {
  "kernelspec": {
   "display_name": ".env_astro",
   "language": "python",
   "name": "python3"
  },
  "language_info": {
   "codemirror_mode": {
    "name": "ipython",
    "version": 3
   },
   "file_extension": ".py",
   "mimetype": "text/x-python",
   "name": "python",
   "nbconvert_exporter": "python",
   "pygments_lexer": "ipython3",
   "version": "3.12.3"
  }
 },
 "nbformat": 4,
 "nbformat_minor": 2
}
